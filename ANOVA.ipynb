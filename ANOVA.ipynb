{
 "cells": [
  {
   "cell_type": "markdown",
   "id": "84c6a4dc-6404-4d4d-b968-75dd277cd9df",
   "metadata": {},
   "source": [
    "<center>\n",
    "<h1><b>ANOVA</b></h1>\n",
    "</center>"
   ]
  },
  {
   "cell_type": "markdown",
   "id": "9ffdfc8c-989c-4828-8535-c3f0ed4f78c4",
   "metadata": {},
   "source": [
    "-------------"
   ]
  },
  {
   "cell_type": "markdown",
   "id": "66dc0f87-620a-4afa-aaab-37039bb3742d",
   "metadata": {},
   "source": [
    "**ANOVA** (Analysis of Variance) is a statistical method used to compare the means of three or more groups to see if at least one group mean is different from the others. It's like a more advanced version of the t-test, which compares the means of two groups.\n",
    "\n",
    "### Types of ANOVA\n",
    "\n",
    "1. **One-Way ANOVA**\n",
    "2. **Two-Way ANOVA**\n",
    "3. **Repeated Measures ANOVA**\n"
   ]
  },
  {
   "cell_type": "markdown",
   "id": "7882a5ab-afff-4bc3-88a5-a7f90a92d7d2",
   "metadata": {},
   "source": [
    "### One-Way ANOVA\n",
    "\n",
    "**Use Case**: When you have one independent variable with three or more levels (groups) and one dependent variable.\n",
    "\n",
    "**Example**: A company wants to test if three different training programs lead to different levels of employee productivity. The independent variable is the training program (with three levels: Program A, Program B, Program C), and the dependent variable is productivity.\n",
    "\n",
    "**Conditions for Usage**:\n",
    "- The groups should be independent.\n",
    "- The dependent variable should be continuous and approximately normally distributed.\n",
    "- Homogeneity of variances\n",
    "\n",
    "  Think of variance as the difference between the heights of people in a group. If everyone is about the same height, the       variance is small. If     there are both very short and very tall people, the variance is large.\n",
    "\n",
    "  **Homogeneity of variances** means that the variances (the amount of spread in the data) in different groups should be roughly the same. In other         words, the spread of heights in Group 1 should be similar to the spread of heights in Group 2.\n",
    "\n",
    "**Limitations**:\n",
    "- Only one independent variable can be tested.\n",
    "- Does not show which groups are different, only that at least one group is different.\n"
   ]
  },
  {
   "cell_type": "markdown",
   "id": "a2637306-3188-4b59-b2c0-bb91ed4f1757",
   "metadata": {},
   "source": [
    "### Two-Way ANOVA\n",
    "\n",
    "**Use Case**: When you have two independent variables and one dependent variable.\n",
    "\n",
    "**Example**: A retail company wants to understand the effect of both store location (Lekki, Ikeja, Epe) and promotion type (discount, buy-one-get-one-free, no promotion) on sales. Here, the independent variables are store location and promotion type, and the dependent variable is sales.\n",
    "\n",
    "**Conditions for Usage**:\n",
    "- The groups should be independent.\n",
    "- The dependent variable should be continuous and approximately normally distributed.\n",
    "- Homogeneity of variances.\n",
    "\n",
    "**Limitations**:\n",
    "- More complex interpretation.\n",
    "- Interactions between variables can be difficult to understand."
   ]
  },
  {
   "cell_type": "markdown",
   "id": "3d76e539-ca55-46ed-814e-7b5e2082cd64",
   "metadata": {},
   "source": [
    "### Repeated Measures ANOVA\n",
    "\n",
    "**Use Case**: When you measure the same subjects under different conditions or over time.\n",
    "\n",
    "**Example**: A tech company wants to test the effectiveness of different website designs on user satisfaction over three different interactions. The independent variable is the website design (Design A, Design B, Design C), and the dependent variable is user satisfaction scores.\n",
    "\n",
    "**Conditions for Usage**:\n",
    "- The same subjects are used in all conditions.\n",
    "- The dependent variable should be continuous and approximately normally distributed.\n",
    "- Sphericity (the variances of the differences between all combinations of related groups should be equal).\n",
    "\n",
    "**Limitations**:\n",
    "- Assumes sphericity; if not met, results can be misleading.\n",
    "- Can be sensitive to missing data."
   ]
  },
  {
   "cell_type": "markdown",
   "id": "511c45e9-272b-4903-b270-07a0c1816c63",
   "metadata": {},
   "source": [
    "## Practical Python Implementations"
   ]
  },
  {
   "cell_type": "code",
   "execution_count": 1,
   "id": "49b628a2-be02-4d21-b6ff-0a6ea35bc10f",
   "metadata": {},
   "outputs": [],
   "source": [
    "# importation of libraries\n",
    "import pandas as pd\n",
    "import scipy.stats as stats"
   ]
  },
  {
   "cell_type": "markdown",
   "id": "921cdde5-a39a-46a0-a6e7-9a676bfa272d",
   "metadata": {},
   "source": [
    "### One-Way ANOVA\n",
    "**Example**: A company wants to test if three different training programs lead to different levels of employee productivity. The independent variable is the training program (with three levels: Program A, Program B, Program C), and the dependent variable is productivity."
   ]
  },
  {
   "cell_type": "code",
   "execution_count": 2,
   "id": "905ff716-2711-4ff5-9784-e41d28595782",
   "metadata": {},
   "outputs": [
    {
     "name": "stdout",
     "output_type": "stream",
     "text": [
      "F-Statistic: 53.88148148148136, p-value: 1.0119342241180066e-06\n"
     ]
    }
   ],
   "source": [
    "# Sample Data\n",
    "data = {\n",
    "    'Program_A': [89, 85, 90, 92, 88],\n",
    "    'Program_B': [78, 82, 79, 81, 77],\n",
    "    'Program_C': [92, 94, 93, 95, 91]\n",
    "}\n",
    "\n",
    "df = pd.DataFrame(data)\n",
    "\n",
    "f_stat, p_val = stats.f_oneway(df['Program_A'], df['Program_B'], df['Program_C'])\n",
    "print(f'F-Statistic: {f_stat}, p-value: {p_val}')"
   ]
  },
  {
   "cell_type": "markdown",
   "id": "f34a22f0-5e38-45ba-aa49-c652db25fdfe",
   "metadata": {},
   "source": [
    "### One-Way ANOVA Interpretation\n",
    "\n",
    "- **F-Statistic**: 53.881\n",
    "- **P-Value**: 0.000001011 (approximately)\n",
    "\n",
    "We measured the productivity levels of employees who participated in three different training programs (Program A, Program B, Program C). We used a special tool (ANOVA) to see if there is a significant difference in productivity levels among the three training programs or if any observed differences are just by chance.\n",
    "\n",
    "#### What We Found:\n",
    "1. **The F-Statistic (53.881)**: This number tells us how big the differences are among the productivity levels of employees from the three training programs. A larger number indicates a greater difference between at least one pair of training programs.\n",
    "\n",
    "2. **The P-Value (0.000001011)**: This very small number tells us the likelihood that the differences in productivity levels among the three training programs happened just by chance. Since this number is much smaller than 0.05 (which is like saying 5 out of 100), it means the differences are very unlikely to be just by chance.\n",
    "\n",
    "**In Simple Words**:\n",
    "It's almost certain that at least one of the training programs leads to a different level of productivity compared to the others, not just by luck or random chance. It's like finding a significant difference in the amount of candies in three different bags and being very sure it's not just by accident.\n",
    "\n",
    "So, we can say with a lot of confidence that the training programs have different effects on employee productivity. This means we should look deeper to see which specific programs are making the difference and by how much.\n",
    "\n",
    "### Practical Business Example:\n",
    "\n",
    "Imagine a company called \"TechCorp\" that implemented three different training programs to improve employee productivity. The company wants to know if there's a significant difference in productivity resulting from these programs.\n",
    "\n",
    "- **Program A**: Standard Training\n",
    "- **Program B**: Advanced Training\n",
    "- **Program C**: Mixed Training\n",
    "\n",
    "After measuring productivity levels, ANOVA results showed:\n",
    "\n",
    "- **F-Statistic**: 53.881\n",
    "- **P-Value**: 0.000001011\n",
    "\n",
    "#### What This Means for TechCorp:\n",
    "1. **Big Differences in Productivity**: The F-Statistic (53.881) indicates significant differences in productivity between the programs.\n",
    "2. **Very Low Chance of Randomness**: The P-Value (0.000001011) suggests that these differences are not due to random chance.\n",
    "\n",
    "**In Simple Words**:\n",
    "TechCorp can be very confident that the differences in employee productivity are due to the training programs and not just random variation. Now, post-hoc tests like Tukey's HSD can be used to find out which specific training programs are the most effective.\n"
   ]
  },
  {
   "cell_type": "markdown",
   "id": "78d9e1b8-82b7-42f8-9955-e39518cf0b94",
   "metadata": {},
   "source": [
    "--------------"
   ]
  },
  {
   "cell_type": "markdown",
   "id": "2c9b5cc8-a5ba-4ede-ad9a-d80391abe87f",
   "metadata": {},
   "source": [
    "### Two-Way ANOVA\n",
    "\n",
    "**Example**: A retail company wants to understand the effect of both store location (Lekki, Ikeja, Epe) and promotion type (discount, buy-one-get-one-free, no promotion) on sales. Here, the independent variables are store location and promotion type, and the dependent variable is sales."
   ]
  },
  {
   "cell_type": "code",
   "execution_count": 3,
   "id": "c8fd0fe3-c37e-4b45-80cc-c60cf808d027",
   "metadata": {},
   "outputs": [],
   "source": [
    "# importation of libraries\n",
    "import pandas as pd  # Import pandas library for data manipulation\n",
    "import statsmodels.api as sm  # Import statsmodels library for statistical modeling\n",
    "from statsmodels.formula.api import ols  # Import OLS function for linear regression"
   ]
  },
  {
   "cell_type": "code",
   "execution_count": 4,
   "id": "904ee107-b5c6-475c-9a78-b31978f97a2b",
   "metadata": {},
   "outputs": [
    {
     "data": {
      "text/html": [
       "<div>\n",
       "<style scoped>\n",
       "    .dataframe tbody tr th:only-of-type {\n",
       "        vertical-align: middle;\n",
       "    }\n",
       "\n",
       "    .dataframe tbody tr th {\n",
       "        vertical-align: top;\n",
       "    }\n",
       "\n",
       "    .dataframe thead th {\n",
       "        text-align: right;\n",
       "    }\n",
       "</style>\n",
       "<table border=\"1\" class=\"dataframe\">\n",
       "  <thead>\n",
       "    <tr style=\"text-align: right;\">\n",
       "      <th></th>\n",
       "      <th>Location</th>\n",
       "      <th>Promotion</th>\n",
       "      <th>Sales</th>\n",
       "    </tr>\n",
       "  </thead>\n",
       "  <tbody>\n",
       "    <tr>\n",
       "      <th>0</th>\n",
       "      <td>Lekki</td>\n",
       "      <td>Discount</td>\n",
       "      <td>200</td>\n",
       "    </tr>\n",
       "    <tr>\n",
       "      <th>22</th>\n",
       "      <td>Epe</td>\n",
       "      <td>BOGO</td>\n",
       "      <td>420</td>\n",
       "    </tr>\n",
       "    <tr>\n",
       "      <th>18</th>\n",
       "      <td>Epe</td>\n",
       "      <td>Discount</td>\n",
       "      <td>380</td>\n",
       "    </tr>\n",
       "  </tbody>\n",
       "</table>\n",
       "</div>"
      ],
      "text/plain": [
       "   Location Promotion  Sales\n",
       "0     Lekki  Discount    200\n",
       "22      Epe      BOGO    420\n",
       "18      Epe  Discount    380"
      ]
     },
     "execution_count": 4,
     "metadata": {},
     "output_type": "execute_result"
    }
   ],
   "source": [
    "# Sample Data \n",
    "data = {\n",
    "    'Location': ['Lekki']*9 + ['Ikeja']*9 + ['Epe']*9,\n",
    "    'Promotion': ['Discount']*3 + ['BOGO']*3 + ['No Promotion']*3 +\n",
    "                 ['Discount']*3 + ['BOGO']*3 + ['No Promotion']*3 +\n",
    "                 ['Discount']*3 + ['BOGO']*3 + ['No Promotion']*3,\n",
    "    'Sales': [200, 210, 220, 230, 240, 250, 260, 270, 280,\n",
    "              290, 300, 310, 320, 330, 340, 350, 360, 370,\n",
    "              380, 390, 400, 410, 420, 430, 440, 450, 460]\n",
    "}\n",
    "\n",
    "# Create a DataFrame from the sample data\n",
    "df = pd.DataFrame(data)\n",
    "df.sample(3)  # sampling the dataframe"
   ]
  },
  {
   "cell_type": "code",
   "execution_count": 5,
   "id": "308b2b24-615e-40b1-afba-5e3776d251b8",
   "metadata": {},
   "outputs": [
    {
     "data": {
      "text/html": [
       "<div>\n",
       "<style scoped>\n",
       "    .dataframe tbody tr th:only-of-type {\n",
       "        vertical-align: middle;\n",
       "    }\n",
       "\n",
       "    .dataframe tbody tr th {\n",
       "        vertical-align: top;\n",
       "    }\n",
       "\n",
       "    .dataframe thead th {\n",
       "        text-align: right;\n",
       "    }\n",
       "</style>\n",
       "<table border=\"1\" class=\"dataframe\">\n",
       "  <thead>\n",
       "    <tr style=\"text-align: right;\">\n",
       "      <th></th>\n",
       "      <th>sum_sq</th>\n",
       "      <th>df</th>\n",
       "      <th>F</th>\n",
       "      <th>PR(&gt;F)</th>\n",
       "    </tr>\n",
       "  </thead>\n",
       "  <tbody>\n",
       "    <tr>\n",
       "      <th>C(Location)</th>\n",
       "      <td>1.458000e+05</td>\n",
       "      <td>2.0</td>\n",
       "      <td>7.290000e+02</td>\n",
       "      <td>5.965891e-18</td>\n",
       "    </tr>\n",
       "    <tr>\n",
       "      <th>C(Promotion)</th>\n",
       "      <td>1.620000e+04</td>\n",
       "      <td>2.0</td>\n",
       "      <td>8.100000e+01</td>\n",
       "      <td>1.000000e-09</td>\n",
       "    </tr>\n",
       "    <tr>\n",
       "      <th>C(Location):C(Promotion)</th>\n",
       "      <td>2.026216e-26</td>\n",
       "      <td>4.0</td>\n",
       "      <td>5.065539e-29</td>\n",
       "      <td>1.000000e+00</td>\n",
       "    </tr>\n",
       "    <tr>\n",
       "      <th>Residual</th>\n",
       "      <td>1.800000e+03</td>\n",
       "      <td>18.0</td>\n",
       "      <td>NaN</td>\n",
       "      <td>NaN</td>\n",
       "    </tr>\n",
       "  </tbody>\n",
       "</table>\n",
       "</div>"
      ],
      "text/plain": [
       "                                sum_sq    df             F        PR(>F)\n",
       "C(Location)               1.458000e+05   2.0  7.290000e+02  5.965891e-18\n",
       "C(Promotion)              1.620000e+04   2.0  8.100000e+01  1.000000e-09\n",
       "C(Location):C(Promotion)  2.026216e-26   4.0  5.065539e-29  1.000000e+00\n",
       "Residual                  1.800000e+03  18.0           NaN           NaN"
      ]
     },
     "execution_count": 5,
     "metadata": {},
     "output_type": "execute_result"
    }
   ],
   "source": [
    "# Performing two-way ANOVA analysis\n",
    "try:\n",
    "    model = ols('Sales ~ C(Location) + C(Promotion) + C(Location):C(Promotion)', data=df).fit()\n",
    "    # Generating the Two-Way ANOVA table for the full model\n",
    "    anova_table = sm.stats.anova_lm(model, typ=2)\n",
    "    # Converting the Two-Way ANOVA table to DataFrame\n",
    "    anova_df = pd.DataFrame(anova_table)    \n",
    "except Exception as e:\n",
    "    # Print any errors that occur during the fitting of the full model\n",
    "    print(f\"Error: {e}\")\n",
    "    \n",
    "#display the Two_Way ANOVA\n",
    "anova_df.head()"
   ]
  },
  {
   "cell_type": "markdown",
   "id": "fa96583d-88f9-4eb8-8a24-b56b0c50dcae",
   "metadata": {},
   "source": [
    "### Two-Way ANOVA Interpretation\n",
    "\n",
    "- **F-Statistic (C(Location))**: 729.0\n",
    "- **P-Value (C(Location))**: 5.97e-18 (approximately)\n",
    "\n",
    "- **F-Statistic (C(Promotion))**: 81.0\n",
    "- **P-Value (C(Promotion))**: 1.00e-09 (approximately)\n",
    "\n",
    "- **F-Statistic (Interaction: C(Location):C(Promotion))**: 5.07e-29\n",
    "- **P-Value (Interaction: C(Location):C(Promotion))**: 1.00\n",
    "\n",
    "We measured the sales performance of stores in three different locations (Lekki, Ikeja, Epe) under three different promotion strategies (Discount, BOGO-buy-one-get-one-free, No Promotion). We used a special tool (Two-Way ANOVA) to see if there is a significant difference in sales performance based on location, promotion strategy, or their interaction, or if any observed differences are just by chance.\n",
    "\n",
    "#### What We Found:\n",
    "1. **The F-Statistic for Location (729.0)**: This number tells us how big the differences are in sales performance between the different locations. A larger number indicates a greater difference in sales between at least one pair of locations.\n",
    "\n",
    "2. **The P-Value for Location (5.97e-18)**: This extremely small number tells us the likelihood that the differences in sales performance among the locations happened just by chance. Since this number is much smaller than 0.05, it means the differences are very unlikely to be just by chance.\n",
    "\n",
    "3. **The F-Statistic for Promotion (81.0)**: This number indicates how big the differences are in sales performance between the different promotion strategies. A larger number suggests a greater difference in sales due to the promotion strategies.\n",
    "\n",
    "4. **The P-Value for Promotion (1.00e-09)**: This very small number indicates the likelihood that the differences in sales performance among the promotion strategies happened just by chance. Since this number is much smaller than 0.05, it means the differences are very unlikely to be just by chance.\n",
    "\n",
    "5. **The F-Statistic for Interaction (5.07e-29)**: This number indicates the differences in sales performance due to the interaction between location and promotion. A very small number suggests minimal interaction effects.\n",
    "\n",
    "6. **The P-Value for Interaction (1.00)**: This number indicates that the interaction effect between location and promotion strategy is not statistically significant.\n",
    "\n",
    "**In Simple Words**:\n",
    "It's almost certain that the location and the type of promotion have significant effects on sales performance. However, the interaction between location and promotion does not significantly affect sales performance. It's like finding a significant difference in the sales figures in different stores and with different promotions but not necessarily a combination of both.\n",
    "\n",
    "### Practical Business Example:\n",
    "\n",
    "Imagine a retail company called \"StoreABC\" that has stores in three locations (Lekki, Ikeja, Epe) and runs three different promotion strategies to boost sales.\n",
    "\n",
    "- **Locations**: Lekki, Ikeja, Epe\n",
    "- **Promotions**: Discount, BOGO (Buy One Get One), No Promotion\n",
    "\n",
    "After measuring sales performance, Two-Way ANOVA results showed:\n",
    "\n",
    "- **F-Statistic (Location)**: 729.0\n",
    "- **P-Value (Location)**: 5.97e-18\n",
    "- **F-Statistic (Promotion)**: 81.0\n",
    "- **P-Value (Promotion)**: 1.00e-09\n",
    "- **F-Statistic (Interaction)**: 5.07e-29\n",
    "- **P-Value (Interaction)**: 1.00\n",
    "\n",
    "#### What This Means for StoreABC:\n",
    "1. **Big Differences in Sales by Location**: The F-Statistic (729.0) for location indicates significant differences in sales between Lekki, Ikeja, and Epe.\n",
    "2. **Big Differences in Sales by Promotion**: The F-Statistic (81.0) for promotion indicates significant differences in sales between the different promotions.\n",
    "3. **No Significant Interaction Effect**: The interaction effect is not significant, meaning the combined effect of location and promotion doesn't vary significantly.\n",
    "\n",
    "**In Simple Words**:\n",
    "StoreABC can be very confident that both the store location and the type of promotion significantly affect sales performance. The lack of interaction means that the effectiveness of a promotion is consistent across all locations. Now, StoreABC can use this information to optimize promotions in different locations separately.\n",
    "\n",
    "For further enquiry, StoreABC can perform post-hoc tests like Tukey's HSD (Honestly Significant Difference) to determine which specific locations and promotions differ significantly. Also, for startegy optimization, StoreABC can tailor its promotion strategies to maximize sales based on the specific effects observed for locations and promotions independently."
   ]
  },
  {
   "cell_type": "markdown",
   "id": "44f5d12a-5543-45f0-bb44-9353bccad11d",
   "metadata": {},
   "source": [
    "----------------"
   ]
  },
  {
   "cell_type": "markdown",
   "id": "8823a4ce-58db-4659-8f52-43b052d201c5",
   "metadata": {},
   "source": [
    "### Repeated Measures ANOVA\n",
    "\n",
    "**Example**: A tech company wants to test the effectiveness of different website designs on user satisfaction over three different interactions. The independent variable is the website design (Design A, Design B, Design C), and the dependent variable is user satisfaction scores.\n"
   ]
  },
  {
   "cell_type": "code",
   "execution_count": 6,
   "id": "a056937c-6c2b-499f-a525-4bbf9c51093e",
   "metadata": {},
   "outputs": [],
   "source": [
    "# importation of library\n",
    "import pingouin as pg"
   ]
  },
  {
   "cell_type": "code",
   "execution_count": 7,
   "id": "20fa4c05-a36a-47db-91ca-02134e4a26ca",
   "metadata": {},
   "outputs": [],
   "source": [
    "# Sample Data\n",
    "data = {\n",
    "    'User': list(range(1, 31)) * 3,  # 30 users repeated for each design (A, B, C)\n",
    "    'Design': ['A']*30 + ['B']*30 + ['C']*30,  # Each design (A, B, C) applied to 30 users\n",
    "    'Satisfaction': [70, 75, 72, 74, 73, 76, 78, 77, 79, 80, 85, 88, 84, 82, 81, 87, 86, 89, 90, 91, 83, 78, 80, 85, 87, 89, 90, 88, 85, 87,\n",
    "                     65, 70, 68, 66, 67, 69, 71, 73, 72, 74, 76, 78, 75, 77, 79, 80, 82, 84, 81, 83, 85, 87, 89, 86, 88, 90, 92, 94, 93, 91,\n",
    "                     60, 62, 61, 63, 64, 65, 67, 66, 68, 69, 70, 71, 73, 75, 74, 76, 78, 77, 79, 80, 82, 81, 84, 86, 85, 87, 88, 89, 90, 91]\n",
    "}\n",
    "\n",
    "# Create a DataFrame from the sample data\n",
    "df = pd.DataFrame(data)"
   ]
  },
  {
   "cell_type": "code",
   "execution_count": 8,
   "id": "3c41271d-5b5f-4c4c-b4d7-a0acb8d557ee",
   "metadata": {},
   "outputs": [
    {
     "data": {
      "text/html": [
       "<div>\n",
       "<style scoped>\n",
       "    .dataframe tbody tr th:only-of-type {\n",
       "        vertical-align: middle;\n",
       "    }\n",
       "\n",
       "    .dataframe tbody tr th {\n",
       "        vertical-align: top;\n",
       "    }\n",
       "\n",
       "    .dataframe thead th {\n",
       "        text-align: right;\n",
       "    }\n",
       "</style>\n",
       "<table border=\"1\" class=\"dataframe\">\n",
       "  <thead>\n",
       "    <tr style=\"text-align: right;\">\n",
       "      <th></th>\n",
       "      <th>Source</th>\n",
       "      <th>ddof1</th>\n",
       "      <th>ddof2</th>\n",
       "      <th>F</th>\n",
       "      <th>p-unc</th>\n",
       "      <th>p-GG-corr</th>\n",
       "      <th>ng2</th>\n",
       "      <th>eps</th>\n",
       "      <th>sphericity</th>\n",
       "      <th>W-spher</th>\n",
       "      <th>p-spher</th>\n",
       "    </tr>\n",
       "  </thead>\n",
       "  <tbody>\n",
       "    <tr>\n",
       "      <th>0</th>\n",
       "      <td>Design</td>\n",
       "      <td>2</td>\n",
       "      <td>58</td>\n",
       "      <td>28.864675</td>\n",
       "      <td>1.993196e-09</td>\n",
       "      <td>0.000002</td>\n",
       "      <td>0.109198</td>\n",
       "      <td>0.576874</td>\n",
       "      <td>False</td>\n",
       "      <td>0.266519</td>\n",
       "      <td>9.124002e-09</td>\n",
       "    </tr>\n",
       "  </tbody>\n",
       "</table>\n",
       "</div>"
      ],
      "text/plain": [
       "   Source  ddof1  ddof2          F         p-unc  p-GG-corr       ng2  \\\n",
       "0  Design      2     58  28.864675  1.993196e-09   0.000002  0.109198   \n",
       "\n",
       "        eps  sphericity   W-spher       p-spher  \n",
       "0  0.576874       False  0.266519  9.124002e-09  "
      ]
     },
     "execution_count": 8,
     "metadata": {},
     "output_type": "execute_result"
    }
   ],
   "source": [
    "# Perform repeated measures ANOVA\n",
    "anova = pg.rm_anova(dv='Satisfaction',    # Dependent variable (user satisfaction scores)\n",
    "                    within='Design',      # Within-subject factor (website design)\n",
    "                    subject='User',       # Subject identifier (user)\n",
    "                    data=df)              # DataFrame containing the data\n",
    "\n",
    "# Print the ANOVA table\n",
    "RManova_df = pd.DataFrame(anova) \n",
    "RManova_df"
   ]
  },
  {
   "cell_type": "markdown",
   "id": "9f7e6667-17d3-45d4-b84f-0ff7ee7d562a",
   "metadata": {},
   "source": [
    "### Repeated Measures ANOVA Interpretation\n",
    "\n",
    "- **F-Statistic**: 28.864675\n",
    "- **P-Value**: 1.993196e-09 (approximately 0.00000000199)\n",
    "\n",
    "We measured user satisfaction scores for three different website designs (Design A, Design B, Design C) over three different interactions to see if there's a significant difference in satisfaction scores between the designs or if any observed differences are just by chance.\n",
    "\n",
    "### What We Found:\n",
    "1. **The F-Statistic (28.864675)**: This number tells us how big the differences are among the user satisfaction scores for the three different website designs. A larger number indicates a greater difference between at least one pair of designs.\n",
    "\n",
    "2. **The P-Value (1.993196e-09)**: This very small number tells us the likelihood that the differences in user satisfaction scores among the three website designs happened just by chance. Since this number is much smaller than 0.05 (which is like saying 5 out of 100), it means the differences are very unlikely to be just by chance.\n",
    "\n",
    "**In Simple Words**:\n",
    "It's almost certain that at least one of the website designs leads to a different level of user satisfaction compared to the others, not just by luck or random chance. It's like finding a significant difference in user happiness after using three differently designed websites and being very sure it's not just by accident.\n",
    "\n",
    "So, we can say with a lot of confidence that the website designs have different effects on user satisfaction. This means we should look deeper to see which specific designs are making the difference and by how much.\n",
    "\n",
    "### Practical Business Example:\n",
    "\n",
    "Imagine a tech company called \"WebInnovate\" that wants to test the effectiveness of different website designs on user satisfaction over three different interactions.\n",
    "\n",
    "- **Design A**: Classic Website Design\n",
    "- **Design B**: Modern Website Design\n",
    "- **Design C**: Experimental Website Design\n",
    "\n",
    "After measuring user satisfaction scores for these three designs over three interactions, the Repeated Measures ANOVA results showed:\n",
    "\n",
    "- **F-Statistic**: 28.864675\n",
    "- **P-Value**: 1.993196e-09\n",
    "\n",
    "#### What This Means for WebInnovate:\n",
    "1. **Big Differences in User Satisfaction**: The F-Statistic (28.864675) indicates significant differences in user satisfaction between the website designs.\n",
    "2. **Very Low Chance of Randomness**: The P-Value (1.993196e-09) suggests that these differences are not due to random chance.\n",
    "\n",
    "**In Simple Words**:\n",
    "WebInnovate can be very confident that the differences in user satisfaction are due to the website designs and not just random variation. Now, post-hoc tests like Tukey's HSD can be used to find out which specific website designs are the most effective."
   ]
  },
  {
   "cell_type": "markdown",
   "id": "570078b5-650e-4842-a488-9fcf9d2bba68",
   "metadata": {},
   "source": [
    "<center>\n",
    "<h1><b>Thank You</b></h1>\n",
    "</center>"
   ]
  }
 ],
 "metadata": {
  "kernelspec": {
   "display_name": "Python 3 (ipykernel)",
   "language": "python",
   "name": "python3"
  },
  "language_info": {
   "codemirror_mode": {
    "name": "ipython",
    "version": 3
   },
   "file_extension": ".py",
   "mimetype": "text/x-python",
   "name": "python",
   "nbconvert_exporter": "python",
   "pygments_lexer": "ipython3",
   "version": "3.11.7"
  }
 },
 "nbformat": 4,
 "nbformat_minor": 5
}

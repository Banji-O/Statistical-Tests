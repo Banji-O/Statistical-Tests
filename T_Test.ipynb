{
 "cells": [
  {
   "cell_type": "markdown",
   "id": "9994ce50-567c-4e49-98ff-f1fe697607cf",
   "metadata": {},
   "source": [
    "----------"
   ]
  },
  {
   "cell_type": "markdown",
   "id": "4b854cd8-282c-4bb1-a5e2-c2de46a0de3c",
   "metadata": {},
   "source": [
    "<center>\n",
    "<h1><b>T-Test</b></h1>\n",
    "</center>"
   ]
  },
  {
   "cell_type": "markdown",
   "id": "7fbf570f-66a7-4e7f-85fc-c330560864a5",
   "metadata": {},
   "source": [
    "---------------"
   ]
  },
  {
   "cell_type": "markdown",
   "id": "9152d433-7662-4f7b-b94c-df7aced55bd8",
   "metadata": {},
   "source": [
    "A T-test is a statistical test used to determine if there is a significant difference between the means of two groups. Here’s a simple breakdown:\n",
    "\n",
    "### Types of T-Tests\n",
    "1. **One-Sample T-Test**:\n",
    "   - **Purpose**: To determine if the mean of a single sample is significantly different from a known or hypothesized population mean.\n",
    "   - **Example**: Testing if the average height of students in a class is different from the national average height.\n",
    "\n",
    "2. **Independent (Two-Sample) T-Test**:\n",
    "   - **Purpose**: To compare the means of two independent groups to see if they are significantly different from each other.\n",
    "   - **Example**: Comparing the performance of two website versions after A/B testing to determine which one performs better.\n",
    "     \n",
    "3. **Paired (Dependent) T-Test**:\n",
    "   - **Purpose**: To compare means from the same group at different times (e.g., before and after a treatment) or under two different conditions.\n",
    "   - **Example**: Testing the effectiveness of a new drug by comparing the health metrics of the same patients before and after treatment.\n",
    "\n",
    "### Suitable Situations for Usage\n",
    "- **One-Sample T-Test**:\n",
    "  - When you have a single sample and want to compare it against a known value.\n",
    "  - Example: Testing if the average daily intake of sugar in a sample group is different from the recommended daily intake.\n",
    "\n",
    "- **Independent T-Test**:\n",
    "  - When comparing two different groups to see if they differ significantly in a particular metric.\n",
    "  - Example: Comparing the performance of two different marketing strategies.\n",
    "\n",
    "- **Paired T-Test**:\n",
    "  - When you have repeated measurements or matched pairs.\n",
    "  - Example: Assessing the impact of a training program by comparing pre-training and post-training test scores of the same employees.\n",
    "\n",
    "### Situations Where T-Test Cannot Be Used\n",
    "- **Non-Normal Distribution**: T-tests assume the data follows a normal distribution. If the data is not normally distributed, other tests like the Mann-Whitney U test (for independent samples) or the Wilcoxon signed-rank test (for paired samples) might be more appropriate.\n",
    "- **More Than Two Groups**: T-tests are designed for comparisons between two groups. For comparisons involving more than two groups, ANOVA (Analysis of Variance) should be used.\n",
    "- **Small Sample Sizes**: While t-tests can be used with small sample sizes, the results may not be reliable. Larger sample sizes generally give more robust results.\n",
    "- **Outliers**: T-tests are sensitive to outliers, which can significantly affect the results. If outliers are present, they should be addressed before conducting a t-test.\n",
    "\n",
    "### Limitations of T-Tests\n",
    "- **Assumption of Normality**: T-tests assume that the data are normally distributed. This may not always be the case, especially with small sample sizes.\n",
    "- **Homogeneity of Variances**: For independent t-tests, there is an assumption that the variances of the two groups are equal. If this assumption is violated, the results might be invalid.\n",
    "- **Sensitivity to Outliers**: Outliers can greatly affect the results of a t-test. Care should be taken to identify and manage outliers.\n",
    "- **Binary Comparison**: T-tests are limited to comparing the means of two groups only. For more than two groups, other statistical methods like ANOVA are needed.\n",
    "- **Sample Size**: Small sample sizes can lead to unreliable results. Larger samples provide more reliable and robust outcomes.\n",
    "\n",
    "For further reading on T-tests, you can refer to [Khan Academy](https://www.khanacademy.org/math/statistics-probability/inference-about-populations/one-sample-t-test/v/t-statistic-confidence-interval) or [Statistics Solutions](https://www.statisticssolutions.com/manova-analysis-anova/paired-sample-t-test/)."
   ]
  },
  {
   "cell_type": "markdown",
   "id": "32552189-8968-4551-9b69-87e72f5916ac",
   "metadata": {},
   "source": [
    "## T- test Calculation"
   ]
  },
  {
   "cell_type": "code",
   "execution_count": 1,
   "id": "f57a3c04-f975-4c93-8138-cee37129267d",
   "metadata": {},
   "outputs": [],
   "source": [
    "# import needed libraries\n",
    "import numpy as np\n",
    "from scipy import stats"
   ]
  },
  {
   "cell_type": "markdown",
   "id": "e980dc7d-9350-4d6b-8613-cb1ded53916a",
   "metadata": {},
   "source": [
    "### One-Sample T-Test\n",
    "Example: Imagine we want to see if kids in a class eat more sugar than the amount their doctor says is okay. The doctor recommends that kids should eat 50 grams of sugar a day.\n",
    "\n",
    "**Generate Data and Calculate T-Test**"
   ]
  },
  {
   "cell_type": "code",
   "execution_count": 2,
   "id": "edba6e69-ba13-49d4-b050-bef4436ae5dc",
   "metadata": {},
   "outputs": [
    {
     "data": {
      "text/plain": [
       "(4.693360062287237, 5.944474834473945e-05)"
      ]
     },
     "execution_count": 2,
     "metadata": {},
     "output_type": "execute_result"
    }
   ],
   "source": [
    "# Generate example data\n",
    "np.random.seed(0)  # setting the random number seed\n",
    "sugar_intake = np.random.normal(55, 10, 30)  # mean=55, std=10, n=30\n",
    "\n",
    "# Perform one-sample t-test\n",
    "t_stat, p_value = stats.ttest_1samp(sugar_intake, 50)  # 50 (gram) is the recommended daily sugar intake \n",
    "\n",
    "t_stat, p_value\n"
   ]
  },
  {
   "cell_type": "markdown",
   "id": "55f67c40-ec33-4857-b313-cbfde428239e",
   "metadata": {},
   "source": [
    "### One-Sample T-Test Interpretation\n",
    "- **T-Statistic**: 4.693\n",
    "- **P-Value**: 0.0000594 (approximately)\n",
    "\n",
    "We measured how much sugar 30 kids ate and found out that, on average, they ate 55 grams. We used a special tool (the t-test) to see if this average amount (55 grams) was really different from the doctor's recommendation (50 grams) or if it was just by chance.\n",
    "\n",
    "#### What We Found:\n",
    "1. **The T-Statistic (4.693)**: This number tells us how big the difference is between what the kids actually ate (55 grams) and what the doctor recommended (50 grams). A bigger number means a bigger difference.\n",
    "\n",
    "2. **The P-Value (0.0000594)**: This very small number tells us the likelihood that this difference happened just by chance. Since this number is much smaller than 0.05 (which is like saying 5 out of 100), it means the difference is very unlikely to be just by chance.\n",
    "\n",
    "**In Simple Words**:\n",
    "It's almost certain that kids in this class really do eat more sugar than the doctor says is okay, not just by luck or random chance. It's like if you find more candies in one bag than another bag, and you're very sure it's not just by accident.\n",
    "\n",
    "So, we can say with a lot of confidence that the kids are eating more sugar than they should be. That will lead us to the independent t-test"
   ]
  },
  {
   "cell_type": "markdown",
   "id": "02a69436-f04d-42a5-a220-d71e1f65216d",
   "metadata": {},
   "source": [
    "____"
   ]
  },
  {
   "cell_type": "markdown",
   "id": "e54ea0f0-3e33-4a5a-9a29-d0fa562667b8",
   "metadata": {},
   "source": [
    "## Independent T-Test\n",
    "Example: Imagine you have two different versions of a webpage (Version A and Version B), and you want to see if visitors spend more time on one version than the other. You measured how long 50 visitors spent on each version.\n",
    "\n",
    "**Generate Data and Calculate T-Test**"
   ]
  },
  {
   "cell_type": "code",
   "execution_count": 3,
   "id": "38a36acd-8452-42ef-af45-8178a54ac7b9",
   "metadata": {},
   "outputs": [
    {
     "data": {
      "text/plain": [
       "(-4.108723928204804, 8.261945608702763e-05)"
      ]
     },
     "execution_count": 3,
     "metadata": {},
     "output_type": "execute_result"
    }
   ],
   "source": [
    "# Generate example data\n",
    "np.random.seed(42)  # setting the random number seed\n",
    "time_spent_A = np.random.normal(5, 1, 50)  # mean=5 minutes, std=1 minute, n=50\n",
    "time_spent_B = np.random.normal(5.5, 1, 50)  # mean=5.5 minutes, std=1 minute, n=50\n",
    "\n",
    "# Perform independent t-test\n",
    "t_stat, p_value = stats.ttest_ind(time_spent_A, time_spent_B)\n",
    "\n",
    "t_stat, p_value\n"
   ]
  },
  {
   "cell_type": "markdown",
   "id": "2158550c-8627-491a-a61e-248fdb672e7d",
   "metadata": {},
   "source": [
    "### Independent T-Test Interpretation\n",
    "\n",
    "- **T-Statistic**: -4.109 (approximately)\n",
    "- **P-Value**: 0.0000826 (approximately)\n",
    "\n",
    "**What We Found**:\n",
    "1. **The T-Statistic (-4.109)**: This number tells us there is a big difference in the time visitors spent on the two versions. Since the number is negative, it means visitors spent less time on Version A compared to Version B.\n",
    "2. **The P-Value (0.0000826)**: This tiny number tells us that the difference in time spent is very, very unlikely to be just by chance. Since this number is much smaller than 0.05, it means the difference is statistically significant.\n",
    "\n",
    "**In Simple Words**:\n",
    "We found that visitors spend much less time on Version A of the webpage compared to Version B. This result is almost certainly true and not just a lucky coincidence. It's like finding out that one webpage is much less engaging because visitors stayed on it for a much shorter time, and we are very sure it's not just by accident.\n",
    "\n",
    "So, we can be very confident that Version B of the webpage keeps users engaged for a longer time compared to Version A.\n",
    "\n",
    "Let's now look into the third type of t-test, which is paired t-test."
   ]
  },
  {
   "cell_type": "markdown",
   "id": "8cd795bc-3ec8-4c8c-91b9-84045facf291",
   "metadata": {},
   "source": [
    "----"
   ]
  },
  {
   "cell_type": "markdown",
   "id": "c82e82c5-af78-418b-a017-880f29955a44",
   "metadata": {},
   "source": [
    "## Paired T-Test\n",
    "Example: Assessing the impact of a training program by comparing pre-training and post-training test scores of the same employees.\n",
    "\n",
    "**Generate Data and Calculate T-Test**"
   ]
  },
  {
   "cell_type": "code",
   "execution_count": 4,
   "id": "a1b57594-e595-4796-aba8-f3c9aee87a63",
   "metadata": {},
   "outputs": [
    {
     "data": {
      "text/plain": [
       "(-4.732082893741267, 5.339064806342024e-05)"
      ]
     },
     "execution_count": 4,
     "metadata": {},
     "output_type": "execute_result"
    }
   ],
   "source": [
    "# Generate example data\n",
    "np.random.seed(2)  # setting the random number seed\n",
    "pre_training = np.random.normal(65, 8, 30)  # mean=65, std=8, n=30\n",
    "post_training = np.random.normal(70, 7, 30)  # mean=70, std=7, n=30\n",
    "\n",
    "# Perform paired t-test\n",
    "t_stat, p_value = stats.ttest_rel(pre_training, post_training)\n",
    "\n",
    "t_stat, p_value\n"
   ]
  },
  {
   "cell_type": "markdown",
   "id": "db738d10-d91b-4371-ab12-2099bd9c5147",
   "metadata": {},
   "source": [
    "### Paired T-Test Interpretation\n",
    "- **T-Statistic**: -4.732 (approximately)\n",
    "- **P-Value**: 0.0000534 (approximately)\n",
    "\n",
    "**What We Found**:\n",
    "1. **The T-Statistic (-4.732)**: This number tells us that there is a big difference between the scores before training and after training the employees. Since the number is negative, it means the scores were lower before the training and got higher after training the employees.\n",
    "2. **The P-Value (0.0000534)**: This very small value tells us that the improvement in scores is almost certainly not just by chance. Since this number is much smaller than 0.05, it means the improvement is statistically significant.\n",
    "\n",
    "**In Simple Words**:\n",
    "We found that employees really did get much better after the training. This result is almost certainly true and not just a lucky coincidence. \n",
    "\n",
    "So, we can be very confident that the training program helped the employees improve their test scores significantly."
   ]
  },
  {
   "cell_type": "markdown",
   "id": "5c5fad20-433e-451b-a97b-94c9fc3e8d1e",
   "metadata": {},
   "source": [
    "<center>\n",
    "<h2><b>Thank You</b></2>\n",
    "</center>\n"
   ]
  },
  {
   "cell_type": "markdown",
   "id": "b3886779-3412-4c6f-9990-b3a02a75a5cb",
   "metadata": {},
   "source": [
    "**Contact**: [owabumoye@gmail.com](mailto:owabumoye@gmail.com)"
   ]
  },
  {
   "cell_type": "code",
   "execution_count": null,
   "id": "8be3fb08-3f0d-4515-b828-b334b45c4f11",
   "metadata": {},
   "outputs": [],
   "source": []
  }
 ],
 "metadata": {
  "kernelspec": {
   "display_name": "Python 3 (ipykernel)",
   "language": "python",
   "name": "python3"
  },
  "language_info": {
   "codemirror_mode": {
    "name": "ipython",
    "version": 3
   },
   "file_extension": ".py",
   "mimetype": "text/x-python",
   "name": "python",
   "nbconvert_exporter": "python",
   "pygments_lexer": "ipython3",
   "version": "3.11.7"
  }
 },
 "nbformat": 4,
 "nbformat_minor": 5
}
